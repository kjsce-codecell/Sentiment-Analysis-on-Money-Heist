{
  "nbformat": 4,
  "nbformat_minor": 0,
  "metadata": {
    "colab": {
      "name": "scraping_with_selenium.ipynb",
      "provenance": [],
      "collapsed_sections": []
    },
    "kernelspec": {
      "name": "python3",
      "display_name": "Python 3"
    },
    "language_info": {
      "name": "python"
    }
  },
  "cells": [
    {
      "cell_type": "code",
      "metadata": {
        "colab": {
          "base_uri": "https://localhost:8080/"
        },
        "id": "uQRDvCgahqVk",
        "outputId": "6e939346-6e7a-470d-832f-d6a26af2f7f2"
      },
      "source": [
        "!pip install selenium\n",
        "!apt-get update \n",
        "!apt install chromium-chromedriver\n",
        "\n",
        "from selenium import webdriver\n",
        "chrome_options = webdriver.ChromeOptions()\n",
        "chrome_options.add_argument('--headless')\n",
        "chrome_options.add_argument('--no-sandbox')\n",
        "chrome_options.add_argument('--disable-dev-shm-usage')\n",
        "driver = webdriver.Chrome('chromedriver',chrome_options=chrome_options)"
      ],
      "execution_count": null,
      "outputs": [
        {
          "output_type": "stream",
          "name": "stdout",
          "text": [
            "Requirement already satisfied: selenium in /usr/local/lib/python3.7/dist-packages (3.141.0)\n",
            "Requirement already satisfied: urllib3 in /usr/local/lib/python3.7/dist-packages (from selenium) (1.24.3)\n",
            "Get:1 http://security.ubuntu.com/ubuntu bionic-security InRelease [88.7 kB]\n",
            "Hit:2 https://cloud.r-project.org/bin/linux/ubuntu bionic-cran40/ InRelease\n",
            "Ign:3 https://developer.download.nvidia.com/compute/cuda/repos/ubuntu1804/x86_64  InRelease\n",
            "Hit:4 http://ppa.launchpad.net/c2d4u.team/c2d4u4.0+/ubuntu bionic InRelease\n",
            "Hit:5 http://archive.ubuntu.com/ubuntu bionic InRelease\n",
            "Ign:6 https://developer.download.nvidia.com/compute/machine-learning/repos/ubuntu1804/x86_64  InRelease\n",
            "Hit:7 https://developer.download.nvidia.com/compute/cuda/repos/ubuntu1804/x86_64  Release\n",
            "Hit:8 https://developer.download.nvidia.com/compute/machine-learning/repos/ubuntu1804/x86_64  Release\n",
            "Get:9 http://archive.ubuntu.com/ubuntu bionic-updates InRelease [88.7 kB]\n",
            "Hit:10 http://ppa.launchpad.net/cran/libgit2/ubuntu bionic InRelease\n",
            "Hit:11 http://ppa.launchpad.net/deadsnakes/ppa/ubuntu bionic InRelease\n",
            "Get:12 http://archive.ubuntu.com/ubuntu bionic-backports InRelease [74.6 kB]\n",
            "Hit:13 http://ppa.launchpad.net/graphics-drivers/ppa/ubuntu bionic InRelease\n",
            "Fetched 252 kB in 3s (91.0 kB/s)\n",
            "Reading package lists... Done\n",
            "Reading package lists... Done\n",
            "Building dependency tree       \n",
            "Reading state information... Done\n",
            "chromium-chromedriver is already the newest version (92.0.4515.159-0ubuntu0.18.04.1).\n",
            "0 upgraded, 0 newly installed, 0 to remove and 43 not upgraded.\n"
          ]
        },
        {
          "output_type": "stream",
          "name": "stderr",
          "text": [
            "/usr/local/lib/python3.7/dist-packages/ipykernel_launcher.py:10: DeprecationWarning: use options instead of chrome_options\n",
            "  # Remove the CWD from sys.path while we load stuff.\n"
          ]
        }
      ]
    },
    {
      "cell_type": "code",
      "metadata": {
        "id": "DcZ8oUDwiolO"
      },
      "source": [
        "from selenium.common.exceptions import NoSuchElementException, ElementNotInteractableException\n",
        "import pandas as pd\n",
        "\n",
        "url = \"https://m.imdb.com/title/tt6468322/reviews\"\n",
        "driver.get(url)"
      ],
      "execution_count": null,
      "outputs": []
    },
    {
      "cell_type": "code",
      "metadata": {
        "colab": {
          "base_uri": "https://localhost:8080/"
        },
        "id": "PuQvGTZJjEpY",
        "outputId": "e320da84-c894-4c77-8a40-9290a77dc5ed"
      },
      "source": [
        "button = driver.find_element_by_class_name(\"ipl-load-more\")\n",
        "\n",
        "while True:\n",
        "  try:\n",
        "    list_of_spoilers = driver.find_elements_by_xpath(\"//div[@class='ipl-expander spoiler-warning']\")\n",
        "    for i in list_of_spoilers:\n",
        "      i.click()\n",
        "    button.click()\n",
        "    button = driver.find_element_by_class_name(\"ipl-load-more\")\n",
        "  except ElementNotInteractableException:\n",
        "    break\n",
        "\n",
        "print(\"all reviews loaded\")\n"
      ],
      "execution_count": null,
      "outputs": [
        {
          "output_type": "stream",
          "name": "stdout",
          "text": [
            "all reviews loaded\n"
          ]
        }
      ]
    },
    {
      "cell_type": "code",
      "metadata": {
        "id": "osylklTVljCV"
      },
      "source": [
        "df = pd.DataFrame(columns=[\"rating\",\"title\",\"text\",\"sentiment\"])\n",
        "list_of_reviews = driver.find_elements_by_class_name(\"ipl-content-list__item\")\n",
        "\n",
        "for review in list_of_reviews:\n",
        "  try:\n",
        "    ratingele = review.find_element_by_class_name(\"rating-other-user-rating\")\n",
        "    rating = int(ratingele.find_element_by_tag_name(\"span\").text)\n",
        "  except NoSuchElementException:\n",
        "    continue\n",
        "  \n",
        "  if 8>rating>4:\n",
        "    continue\n",
        "  \n",
        "  title = review.find_element_by_class_name(\"title\").text\n",
        "  text = review.find_element_by_class_name(\"text\").text\n",
        "\n",
        "  if len(text.split())>100:\n",
        "    continue\n",
        "  \n",
        "  df = df.append({\n",
        "      \"rating\":rating,\n",
        "      \"title\":title,\n",
        "      \"text\":text,\n",
        "      \"sentiment\":0 if rating<=4 else 1\n",
        "  },ignore_index=True)\n",
        "\n",
        "df.to_csv(\"data.csv\",index=False,sep=\"\\t\")"
      ],
      "execution_count": null,
      "outputs": []
    }
  ]
}